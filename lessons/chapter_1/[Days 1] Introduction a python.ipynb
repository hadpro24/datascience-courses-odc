{
 "cells": [
  {
   "cell_type": "markdown",
   "id": "965df965",
   "metadata": {},
   "source": [
    "## Introduction a python [ODC]"
   ]
  },
  {
   "cell_type": "markdown",
   "id": "3e52c730",
   "metadata": {},
   "source": [
    "## 0. Operation"
   ]
  },
  {
   "cell_type": "code",
   "execution_count": 4,
   "id": "c7acd9cb",
   "metadata": {},
   "outputs": [
    {
     "data": {
      "text/plain": [
       "8"
      ]
     },
     "execution_count": 4,
     "metadata": {},
     "output_type": "execute_result"
    }
   ],
   "source": [
    "4 + 4"
   ]
  },
  {
   "cell_type": "code",
   "execution_count": 5,
   "id": "f936ac4e",
   "metadata": {},
   "outputs": [
    {
     "data": {
      "text/plain": [
       "2.5"
      ]
     },
     "execution_count": 5,
     "metadata": {},
     "output_type": "execute_result"
    }
   ],
   "source": [
    "5 / 2"
   ]
  },
  {
   "cell_type": "code",
   "execution_count": 6,
   "id": "76096d9f",
   "metadata": {},
   "outputs": [
    {
     "data": {
      "text/plain": [
       "2"
      ]
     },
     "execution_count": 6,
     "metadata": {},
     "output_type": "execute_result"
    }
   ],
   "source": [
    "5 // 2"
   ]
  },
  {
   "cell_type": "code",
   "execution_count": 7,
   "id": "fdcf5a51",
   "metadata": {},
   "outputs": [
    {
     "data": {
      "text/plain": [
       "1"
      ]
     },
     "execution_count": 7,
     "metadata": {},
     "output_type": "execute_result"
    }
   ],
   "source": [
    "5 % 2"
   ]
  },
  {
   "cell_type": "markdown",
   "id": "22ef16c0",
   "metadata": {},
   "source": [
    "## 1. Variable"
   ]
  },
  {
   "cell_type": "code",
   "execution_count": 8,
   "id": "6b62db0b",
   "metadata": {},
   "outputs": [],
   "source": [
    "a = 5"
   ]
  },
  {
   "cell_type": "code",
   "execution_count": 9,
   "id": "88d31393",
   "metadata": {},
   "outputs": [
    {
     "data": {
      "text/plain": [
       "5"
      ]
     },
     "execution_count": 9,
     "metadata": {},
     "output_type": "execute_result"
    }
   ],
   "source": [
    "a"
   ]
  },
  {
   "cell_type": "code",
   "execution_count": 10,
   "id": "60d58bbb",
   "metadata": {},
   "outputs": [],
   "source": [
    "b = 30"
   ]
  },
  {
   "cell_type": "code",
   "execution_count": 11,
   "id": "01f910ab",
   "metadata": {},
   "outputs": [
    {
     "data": {
      "text/plain": [
       "30"
      ]
     },
     "execution_count": 11,
     "metadata": {},
     "output_type": "execute_result"
    }
   ],
   "source": [
    "b"
   ]
  },
  {
   "cell_type": "code",
   "execution_count": 12,
   "id": "0f18e4fc",
   "metadata": {},
   "outputs": [
    {
     "data": {
      "text/plain": [
       "35"
      ]
     },
     "execution_count": 12,
     "metadata": {},
     "output_type": "execute_result"
    }
   ],
   "source": [
    "a + b"
   ]
  },
  {
   "cell_type": "code",
   "execution_count": 13,
   "id": "d0d3c78d",
   "metadata": {},
   "outputs": [
    {
     "data": {
      "text/plain": [
       "35"
      ]
     },
     "execution_count": 13,
     "metadata": {},
     "output_type": "execute_result"
    }
   ],
   "source": [
    "c = a + b\n",
    "c"
   ]
  },
  {
   "cell_type": "code",
   "execution_count": 14,
   "id": "828589ca",
   "metadata": {},
   "outputs": [
    {
     "data": {
      "text/plain": [
       "35"
      ]
     },
     "execution_count": 14,
     "metadata": {},
     "output_type": "execute_result"
    }
   ],
   "source": [
    "c"
   ]
  },
  {
   "cell_type": "code",
   "execution_count": 16,
   "id": "a173b0a9",
   "metadata": {},
   "outputs": [],
   "source": [
    "s1 = 'spam'\n",
    "s2 = \"Spam\""
   ]
  },
  {
   "cell_type": "code",
   "execution_count": 17,
   "id": "df181fa5",
   "metadata": {},
   "outputs": [
    {
     "data": {
      "text/plain": [
       "'spam'"
      ]
     },
     "execution_count": 17,
     "metadata": {},
     "output_type": "execute_result"
    }
   ],
   "source": [
    "s1"
   ]
  },
  {
   "cell_type": "code",
   "execution_count": 18,
   "id": "f56490e4",
   "metadata": {},
   "outputs": [
    {
     "data": {
      "text/plain": [
       "'Spam'"
      ]
     },
     "execution_count": 18,
     "metadata": {},
     "output_type": "execute_result"
    }
   ],
   "source": [
    "s2"
   ]
  },
  {
   "cell_type": "code",
   "execution_count": 19,
   "id": "d859c6a8",
   "metadata": {},
   "outputs": [
    {
     "data": {
      "text/plain": [
       "True"
      ]
     },
     "execution_count": 19,
     "metadata": {},
     "output_type": "execute_result"
    }
   ],
   "source": [
    "True"
   ]
  },
  {
   "cell_type": "code",
   "execution_count": 20,
   "id": "7ee2f97e",
   "metadata": {},
   "outputs": [
    {
     "data": {
      "text/plain": [
       "False"
      ]
     },
     "execution_count": 20,
     "metadata": {},
     "output_type": "execute_result"
    }
   ],
   "source": [
    "False"
   ]
  },
  {
   "cell_type": "code",
   "execution_count": 21,
   "id": "2534aeb0",
   "metadata": {},
   "outputs": [],
   "source": [
    "is_active = True"
   ]
  },
  {
   "cell_type": "code",
   "execution_count": 22,
   "id": "574db785",
   "metadata": {},
   "outputs": [
    {
     "data": {
      "text/plain": [
       "True"
      ]
     },
     "execution_count": 22,
     "metadata": {},
     "output_type": "execute_result"
    }
   ],
   "source": [
    "is_active"
   ]
  },
  {
   "cell_type": "code",
   "execution_count": 23,
   "id": "a0895a71",
   "metadata": {},
   "outputs": [
    {
     "data": {
      "text/plain": [
       "False"
      ]
     },
     "execution_count": 23,
     "metadata": {},
     "output_type": "execute_result"
    }
   ],
   "source": [
    "not True"
   ]
  },
  {
   "cell_type": "code",
   "execution_count": 24,
   "id": "6fe03fbb",
   "metadata": {},
   "outputs": [
    {
     "data": {
      "text/plain": [
       "True"
      ]
     },
     "execution_count": 24,
     "metadata": {},
     "output_type": "execute_result"
    }
   ],
   "source": [
    "not False"
   ]
  },
  {
   "cell_type": "code",
   "execution_count": 25,
   "id": "ad73769b",
   "metadata": {},
   "outputs": [
    {
     "data": {
      "text/plain": [
       "False"
      ]
     },
     "execution_count": 25,
     "metadata": {},
     "output_type": "execute_result"
    }
   ],
   "source": [
    "not is_active"
   ]
  },
  {
   "cell_type": "code",
   "execution_count": 26,
   "id": "9ecbc715",
   "metadata": {},
   "outputs": [
    {
     "data": {
      "text/plain": [
       "int"
      ]
     },
     "execution_count": 26,
     "metadata": {},
     "output_type": "execute_result"
    }
   ],
   "source": [
    "type(a)"
   ]
  },
  {
   "cell_type": "code",
   "execution_count": 27,
   "id": "430be1e5",
   "metadata": {},
   "outputs": [
    {
     "data": {
      "text/plain": [
       "int"
      ]
     },
     "execution_count": 27,
     "metadata": {},
     "output_type": "execute_result"
    }
   ],
   "source": [
    "type(b)"
   ]
  },
  {
   "cell_type": "code",
   "execution_count": 28,
   "id": "4b8cc843",
   "metadata": {},
   "outputs": [],
   "source": [
    "a = 5.20"
   ]
  },
  {
   "cell_type": "code",
   "execution_count": 29,
   "id": "935dd89b",
   "metadata": {},
   "outputs": [
    {
     "data": {
      "text/plain": [
       "5.2"
      ]
     },
     "execution_count": 29,
     "metadata": {},
     "output_type": "execute_result"
    }
   ],
   "source": [
    "a"
   ]
  },
  {
   "cell_type": "code",
   "execution_count": 30,
   "id": "9bc00f31",
   "metadata": {},
   "outputs": [
    {
     "data": {
      "text/plain": [
       "float"
      ]
     },
     "execution_count": 30,
     "metadata": {},
     "output_type": "execute_result"
    }
   ],
   "source": [
    "type(a)"
   ]
  },
  {
   "cell_type": "code",
   "execution_count": 31,
   "id": "43cbe57b",
   "metadata": {},
   "outputs": [
    {
     "data": {
      "text/plain": [
       "int"
      ]
     },
     "execution_count": 31,
     "metadata": {},
     "output_type": "execute_result"
    }
   ],
   "source": [
    "type(b)"
   ]
  },
  {
   "cell_type": "code",
   "execution_count": 32,
   "id": "964ed532",
   "metadata": {},
   "outputs": [
    {
     "data": {
      "text/plain": [
       "str"
      ]
     },
     "execution_count": 32,
     "metadata": {},
     "output_type": "execute_result"
    }
   ],
   "source": [
    "type(s1)"
   ]
  },
  {
   "cell_type": "markdown",
   "id": "bd218bec",
   "metadata": {},
   "source": [
    "## 2. Type de base"
   ]
  },
  {
   "cell_type": "code",
   "execution_count": 33,
   "id": "f8a1058f",
   "metadata": {},
   "outputs": [],
   "source": [
    "a = 51"
   ]
  },
  {
   "cell_type": "code",
   "execution_count": 34,
   "id": "e7a62812",
   "metadata": {},
   "outputs": [],
   "source": [
    "name = \"Ibrahim\""
   ]
  },
  {
   "cell_type": "code",
   "execution_count": 35,
   "id": "adbe3038",
   "metadata": {},
   "outputs": [
    {
     "data": {
      "text/plain": [
       "'Ibrahim'"
      ]
     },
     "execution_count": 35,
     "metadata": {},
     "output_type": "execute_result"
    }
   ],
   "source": [
    "name"
   ]
  },
  {
   "cell_type": "markdown",
   "id": "dce41052",
   "metadata": {},
   "source": [
    "## 3 - Listes"
   ]
  },
  {
   "cell_type": "code",
   "execution_count": 36,
   "id": "aee52e76",
   "metadata": {},
   "outputs": [],
   "source": [
    "names = ['diallo', 'bah', 'bangoura']"
   ]
  },
  {
   "cell_type": "code",
   "execution_count": 37,
   "id": "1b1c8ec3",
   "metadata": {},
   "outputs": [
    {
     "data": {
      "text/plain": [
       "['diallo', 'bah', 'bangoura']"
      ]
     },
     "execution_count": 37,
     "metadata": {},
     "output_type": "execute_result"
    }
   ],
   "source": [
    "names"
   ]
  },
  {
   "cell_type": "code",
   "execution_count": 38,
   "id": "2a1edac6",
   "metadata": {},
   "outputs": [
    {
     "data": {
      "text/plain": [
       "'diallo'"
      ]
     },
     "execution_count": 38,
     "metadata": {},
     "output_type": "execute_result"
    }
   ],
   "source": [
    "names[0]"
   ]
  },
  {
   "cell_type": "code",
   "execution_count": 39,
   "id": "ee43b3bc",
   "metadata": {},
   "outputs": [
    {
     "data": {
      "text/plain": [
       "'bah'"
      ]
     },
     "execution_count": 39,
     "metadata": {},
     "output_type": "execute_result"
    }
   ],
   "source": [
    "names[1]"
   ]
  },
  {
   "cell_type": "code",
   "execution_count": 40,
   "id": "bed31df1",
   "metadata": {},
   "outputs": [],
   "source": [
    "names.append(5.1)"
   ]
  },
  {
   "cell_type": "code",
   "execution_count": 41,
   "id": "d0ca5588",
   "metadata": {},
   "outputs": [
    {
     "data": {
      "text/plain": [
       "['diallo', 'bah', 'bangoura', 5.1]"
      ]
     },
     "execution_count": 41,
     "metadata": {},
     "output_type": "execute_result"
    }
   ],
   "source": [
    "names"
   ]
  },
  {
   "cell_type": "code",
   "execution_count": 42,
   "id": "56b151ad",
   "metadata": {},
   "outputs": [
    {
     "data": {
      "text/plain": [
       "['diallo', 'bah']"
      ]
     },
     "execution_count": 42,
     "metadata": {},
     "output_type": "execute_result"
    }
   ],
   "source": [
    "names[0:2]"
   ]
  },
  {
   "cell_type": "code",
   "execution_count": 43,
   "id": "144e0994",
   "metadata": {},
   "outputs": [
    {
     "data": {
      "text/plain": [
       "['diallo', 'bah']"
      ]
     },
     "execution_count": 43,
     "metadata": {},
     "output_type": "execute_result"
    }
   ],
   "source": [
    "names[:2]"
   ]
  },
  {
   "cell_type": "code",
   "execution_count": 44,
   "id": "ac4e55c8",
   "metadata": {},
   "outputs": [
    {
     "data": {
      "text/plain": [
       "['diallo', 'bah', 'bangoura', 5.1]"
      ]
     },
     "execution_count": 44,
     "metadata": {},
     "output_type": "execute_result"
    }
   ],
   "source": [
    "names"
   ]
  },
  {
   "cell_type": "code",
   "execution_count": 45,
   "id": "c3c91cdd",
   "metadata": {},
   "outputs": [
    {
     "data": {
      "text/plain": [
       "5.1"
      ]
     },
     "execution_count": 45,
     "metadata": {},
     "output_type": "execute_result"
    }
   ],
   "source": [
    "names[-1]"
   ]
  },
  {
   "cell_type": "code",
   "execution_count": 47,
   "id": "a2755c83",
   "metadata": {},
   "outputs": [
    {
     "data": {
      "text/plain": [
       "['bah', 'bangoura', 5.1]"
      ]
     },
     "execution_count": 47,
     "metadata": {},
     "output_type": "execute_result"
    }
   ],
   "source": [
    "names[-3:]"
   ]
  },
  {
   "cell_type": "code",
   "execution_count": 48,
   "id": "9a19e04f",
   "metadata": {},
   "outputs": [
    {
     "data": {
      "text/plain": [
       "['diallo', 'bah', 'bangoura', 5.1]"
      ]
     },
     "execution_count": 48,
     "metadata": {},
     "output_type": "execute_result"
    }
   ],
   "source": [
    "names"
   ]
  },
  {
   "cell_type": "code",
   "execution_count": 49,
   "id": "27f76425",
   "metadata": {},
   "outputs": [
    {
     "data": {
      "text/plain": [
       "['diallo', 'bah', 'bangoura', 5.1]"
      ]
     },
     "execution_count": 49,
     "metadata": {},
     "output_type": "execute_result"
    }
   ],
   "source": [
    "names[:]"
   ]
  },
  {
   "cell_type": "code",
   "execution_count": 50,
   "id": "161eeda3",
   "metadata": {},
   "outputs": [],
   "source": [
    "b = [2, 5, 3]"
   ]
  },
  {
   "cell_type": "code",
   "execution_count": 52,
   "id": "15e84d2e",
   "metadata": {},
   "outputs": [
    {
     "data": {
      "text/plain": [
       "['diallo', 'bah', 'bangoura', 5.1, 2, 5, 3]"
      ]
     },
     "execution_count": 52,
     "metadata": {},
     "output_type": "execute_result"
    }
   ],
   "source": [
    "names + b"
   ]
  },
  {
   "cell_type": "code",
   "execution_count": 54,
   "id": "a35b757d",
   "metadata": {},
   "outputs": [],
   "source": [
    "names.extend(b)"
   ]
  },
  {
   "cell_type": "code",
   "execution_count": 55,
   "id": "0ad0b2e2",
   "metadata": {},
   "outputs": [
    {
     "data": {
      "text/plain": [
       "['diallo', 'bah', 'bangoura', 5.1, 2, 5, 3]"
      ]
     },
     "execution_count": 55,
     "metadata": {},
     "output_type": "execute_result"
    }
   ],
   "source": [
    "names"
   ]
  },
  {
   "cell_type": "code",
   "execution_count": 56,
   "id": "616c358b",
   "metadata": {},
   "outputs": [],
   "source": [
    "s = 'spam egg beans'"
   ]
  },
  {
   "cell_type": "code",
   "execution_count": 57,
   "id": "c2cbbf9f",
   "metadata": {},
   "outputs": [
    {
     "data": {
      "text/plain": [
       "'spam egg beans'"
      ]
     },
     "execution_count": 57,
     "metadata": {},
     "output_type": "execute_result"
    }
   ],
   "source": [
    "s"
   ]
  },
  {
   "cell_type": "code",
   "execution_count": 61,
   "id": "c3185a18",
   "metadata": {},
   "outputs": [],
   "source": [
    "a = s.split()"
   ]
  },
  {
   "cell_type": "code",
   "execution_count": 62,
   "id": "72f352c7",
   "metadata": {},
   "outputs": [
    {
     "data": {
      "text/plain": [
       "['spam', 'egg', 'beans']"
      ]
     },
     "execution_count": 62,
     "metadata": {},
     "output_type": "execute_result"
    }
   ],
   "source": [
    "a"
   ]
  },
  {
   "cell_type": "code",
   "execution_count": 63,
   "id": "5f82f781",
   "metadata": {},
   "outputs": [
    {
     "data": {
      "text/plain": [
       "['spam', 'egg', 'beans']"
      ]
     },
     "execution_count": 63,
     "metadata": {},
     "output_type": "execute_result"
    }
   ],
   "source": [
    "a"
   ]
  },
  {
   "cell_type": "code",
   "execution_count": 64,
   "id": "9cb8a4c1",
   "metadata": {},
   "outputs": [
    {
     "data": {
      "text/plain": [
       "'spam egg beans'"
      ]
     },
     "execution_count": 64,
     "metadata": {},
     "output_type": "execute_result"
    }
   ],
   "source": [
    "s"
   ]
  },
  {
   "cell_type": "code",
   "execution_count": 65,
   "id": "c4186f5d",
   "metadata": {},
   "outputs": [
    {
     "data": {
      "text/plain": [
       "'SPAM EGG BEANS'"
      ]
     },
     "execution_count": 65,
     "metadata": {},
     "output_type": "execute_result"
    }
   ],
   "source": [
    "s.upper()"
   ]
  },
  {
   "cell_type": "code",
   "execution_count": 66,
   "id": "35cca0ad",
   "metadata": {},
   "outputs": [
    {
     "data": {
      "text/plain": [
       "['spam', 'egg', 'beans']"
      ]
     },
     "execution_count": 66,
     "metadata": {},
     "output_type": "execute_result"
    }
   ],
   "source": [
    "a"
   ]
  },
  {
   "cell_type": "code",
   "execution_count": 68,
   "id": "c83196fd",
   "metadata": {},
   "outputs": [
    {
     "data": {
      "text/plain": [
       "'spam-egg-beans'"
      ]
     },
     "execution_count": 68,
     "metadata": {},
     "output_type": "execute_result"
    }
   ],
   "source": [
    "\"-\".join(a)"
   ]
  },
  {
   "cell_type": "markdown",
   "id": "4bc9ee8e",
   "metadata": {},
   "source": [
    "## 4. Conditions"
   ]
  },
  {
   "cell_type": "code",
   "execution_count": 70,
   "id": "62d024b7",
   "metadata": {},
   "outputs": [
    {
     "name": "stdout",
     "output_type": "stream",
     "text": [
      "5 est inferieur\n"
     ]
    }
   ],
   "source": [
    "a = 5\n",
    "if a > 10:\n",
    "    print(\"5 est superieur a 10\")\n",
    "else:\n",
    "    print(\"5 est inferieur\")"
   ]
  },
  {
   "cell_type": "code",
   "execution_count": 71,
   "id": "e44b7a6c",
   "metadata": {},
   "outputs": [
    {
     "data": {
      "text/plain": [
       "True"
      ]
     },
     "execution_count": 71,
     "metadata": {},
     "output_type": "execute_result"
    }
   ],
   "source": [
    "a < 10"
   ]
  },
  {
   "cell_type": "markdown",
   "id": "34e98c98",
   "metadata": {},
   "source": [
    "## 5. Boucle"
   ]
  },
  {
   "cell_type": "code",
   "execution_count": 72,
   "id": "567d0edd",
   "metadata": {},
   "outputs": [
    {
     "name": "stdout",
     "output_type": "stream",
     "text": [
      "1\n",
      "2\n",
      "3\n"
     ]
    }
   ],
   "source": [
    "for i in [1, 2, 3]:\n",
    "    print(i)"
   ]
  },
  {
   "cell_type": "code",
   "execution_count": 73,
   "id": "b084e24c",
   "metadata": {},
   "outputs": [
    {
     "name": "stdout",
     "output_type": "stream",
     "text": [
      "0\n",
      "1\n",
      "2\n",
      "3\n",
      "4\n",
      "5\n",
      "6\n",
      "7\n",
      "8\n",
      "9\n"
     ]
    }
   ],
   "source": [
    "for i in range(10):\n",
    "    print(i)"
   ]
  },
  {
   "cell_type": "code",
   "execution_count": 74,
   "id": "9c8bd821",
   "metadata": {},
   "outputs": [
    {
     "data": {
      "text/plain": [
       "range(0, 10)"
      ]
     },
     "execution_count": 74,
     "metadata": {},
     "output_type": "execute_result"
    }
   ],
   "source": [
    "range(10)"
   ]
  },
  {
   "cell_type": "code",
   "execution_count": 76,
   "id": "1dea41f7",
   "metadata": {},
   "outputs": [],
   "source": [
    "a = range(2, 20)"
   ]
  },
  {
   "cell_type": "code",
   "execution_count": 77,
   "id": "7a8918e3",
   "metadata": {},
   "outputs": [
    {
     "data": {
      "text/plain": [
       "range(2, 20)"
      ]
     },
     "execution_count": 77,
     "metadata": {},
     "output_type": "execute_result"
    }
   ],
   "source": [
    "a"
   ]
  },
  {
   "cell_type": "code",
   "execution_count": 78,
   "id": "efc7a1eb",
   "metadata": {},
   "outputs": [
    {
     "data": {
      "text/plain": [
       "[2, 3, 4, 5, 6, 7, 8, 9, 10, 11, 12, 13, 14, 15, 16, 17, 18, 19]"
      ]
     },
     "execution_count": 78,
     "metadata": {},
     "output_type": "execute_result"
    }
   ],
   "source": [
    "list(a)"
   ]
  },
  {
   "cell_type": "code",
   "execution_count": 80,
   "id": "a15407b5",
   "metadata": {},
   "outputs": [],
   "source": [
    "b = range(0, 20, 2)"
   ]
  },
  {
   "cell_type": "code",
   "execution_count": 81,
   "id": "0fdd238a",
   "metadata": {},
   "outputs": [
    {
     "data": {
      "text/plain": [
       "range(0, 20, 2)"
      ]
     },
     "execution_count": 81,
     "metadata": {},
     "output_type": "execute_result"
    }
   ],
   "source": [
    "b"
   ]
  },
  {
   "cell_type": "code",
   "execution_count": 82,
   "id": "381fa6d4",
   "metadata": {},
   "outputs": [
    {
     "data": {
      "text/plain": [
       "[0, 2, 4, 6, 8, 10, 12, 14, 16, 18]"
      ]
     },
     "execution_count": 82,
     "metadata": {},
     "output_type": "execute_result"
    }
   ],
   "source": [
    "list(b)"
   ]
  },
  {
   "cell_type": "code",
   "execution_count": 83,
   "id": "375ce25d",
   "metadata": {},
   "outputs": [
    {
     "name": "stdout",
     "output_type": "stream",
     "text": [
      "0\n",
      "1\n",
      "2\n",
      "3\n",
      "4\n",
      "5\n",
      "6\n",
      "7\n",
      "8\n",
      "9\n"
     ]
    }
   ],
   "source": [
    "a = 0\n",
    "while a < 10:\n",
    "    print(a)\n",
    "    a += 1"
   ]
  },
  {
   "cell_type": "markdown",
   "id": "8222c61d",
   "metadata": {},
   "source": [
    "### 6. Functions"
   ]
  },
  {
   "cell_type": "code",
   "execution_count": 84,
   "id": "2831d949",
   "metadata": {},
   "outputs": [],
   "source": [
    "def add(a, b):\n",
    "    return a + b"
   ]
  },
  {
   "cell_type": "code",
   "execution_count": 85,
   "id": "cdeb0c25",
   "metadata": {},
   "outputs": [
    {
     "data": {
      "text/plain": [
       "11"
      ]
     },
     "execution_count": 85,
     "metadata": {},
     "output_type": "execute_result"
    }
   ],
   "source": [
    "add(5, 6)"
   ]
  },
  {
   "cell_type": "code",
   "execution_count": 86,
   "id": "a5614e67",
   "metadata": {},
   "outputs": [],
   "source": [
    "def carre(a):\n",
    "    for i in a:\n",
    "        print(i**2)"
   ]
  },
  {
   "cell_type": "code",
   "execution_count": 87,
   "id": "5adbfd4a",
   "metadata": {},
   "outputs": [
    {
     "name": "stdout",
     "output_type": "stream",
     "text": [
      "4\n",
      "1\n",
      "36\n",
      "16\n"
     ]
    }
   ],
   "source": [
    "carre([2, 1, 6, 4])"
   ]
  },
  {
   "cell_type": "markdown",
   "id": "365a7ef3",
   "metadata": {},
   "source": [
    "## 7. Liste de comprehension"
   ]
  },
  {
   "cell_type": "code",
   "execution_count": 88,
   "id": "30263a88",
   "metadata": {},
   "outputs": [
    {
     "data": {
      "text/plain": [
       "[0, 1, 2, 3, 4, 5, 6, 7, 8, 9]"
      ]
     },
     "execution_count": 88,
     "metadata": {},
     "output_type": "execute_result"
    }
   ],
   "source": [
    "a = list(range(10))\n",
    "a"
   ]
  },
  {
   "cell_type": "code",
   "execution_count": 90,
   "id": "d4369d3c",
   "metadata": {},
   "outputs": [],
   "source": [
    "double_a = [i**2 for i in a]"
   ]
  },
  {
   "cell_type": "code",
   "execution_count": 92,
   "id": "7180ce53",
   "metadata": {},
   "outputs": [
    {
     "data": {
      "text/plain": [
       "[0, 1, 4, 9, 16, 25, 36, 49, 64, 81]"
      ]
     },
     "execution_count": 92,
     "metadata": {},
     "output_type": "execute_result"
    }
   ],
   "source": [
    "double_a"
   ]
  },
  {
   "cell_type": "code",
   "execution_count": 95,
   "id": "5941f1cb",
   "metadata": {},
   "outputs": [],
   "source": [
    "paire_a = [i for i in a if i % 2 == 0]"
   ]
  },
  {
   "cell_type": "code",
   "execution_count": 96,
   "id": "ebdba041",
   "metadata": {},
   "outputs": [
    {
     "data": {
      "text/plain": [
       "[0, 2, 4, 6, 8]"
      ]
     },
     "execution_count": 96,
     "metadata": {},
     "output_type": "execute_result"
    }
   ],
   "source": [
    "paire_a"
   ]
  },
  {
   "cell_type": "code",
   "execution_count": 97,
   "id": "b51196a6",
   "metadata": {},
   "outputs": [],
   "source": [
    "prenom = ['Alice', 'eve', 'Sonia', 'boB']"
   ]
  },
  {
   "cell_type": "code",
   "execution_count": 98,
   "id": "c5f87517",
   "metadata": {},
   "outputs": [
    {
     "data": {
      "text/plain": [
       "['Alice', 'eve', 'Sonia', 'boB']"
      ]
     },
     "execution_count": 98,
     "metadata": {},
     "output_type": "execute_result"
    }
   ],
   "source": [
    "prenom"
   ]
  },
  {
   "cell_type": "code",
   "execution_count": 99,
   "id": "ca1f0017",
   "metadata": {},
   "outputs": [],
   "source": [
    "prenom = [p.lower() for p in prenom]"
   ]
  },
  {
   "cell_type": "code",
   "execution_count": 100,
   "id": "b5d4e124",
   "metadata": {},
   "outputs": [
    {
     "data": {
      "text/plain": [
       "['alice', 'eve', 'sonia', 'bob']"
      ]
     },
     "execution_count": 100,
     "metadata": {},
     "output_type": "execute_result"
    }
   ],
   "source": [
    "prenom"
   ]
  },
  {
   "cell_type": "code",
   "execution_count": 102,
   "id": "a023780e",
   "metadata": {},
   "outputs": [
    {
     "data": {
      "text/plain": [
       "['Alice', 'Eve', 'Sonia', 'Bob']"
      ]
     },
     "execution_count": 102,
     "metadata": {},
     "output_type": "execute_result"
    }
   ],
   "source": [
    "[p.capitalize() for p in prenom]"
   ]
  },
  {
   "cell_type": "markdown",
   "id": "c4652976",
   "metadata": {},
   "source": [
    "## 8. Dictionnaires et tuplets"
   ]
  },
  {
   "cell_type": "code",
   "execution_count": 103,
   "id": "e1026d4d",
   "metadata": {},
   "outputs": [],
   "source": [
    "students = {\n",
    "    'diallo': 25,\n",
    "    'bah': 14,\n",
    "    'soumah': 20,\n",
    "}"
   ]
  },
  {
   "cell_type": "code",
   "execution_count": 104,
   "id": "f5fa9ba0",
   "metadata": {},
   "outputs": [
    {
     "data": {
      "text/plain": [
       "{'diallo': 25, 'bah': 14, 'soumah': 20}"
      ]
     },
     "execution_count": 104,
     "metadata": {},
     "output_type": "execute_result"
    }
   ],
   "source": [
    "students"
   ]
  },
  {
   "cell_type": "code",
   "execution_count": null,
   "id": "6077f511",
   "metadata": {},
   "outputs": [],
   "source": []
  },
  {
   "cell_type": "markdown",
   "id": "c3961e9b",
   "metadata": {},
   "source": [
    "### Aller plus loin"
   ]
  },
  {
   "cell_type": "markdown",
   "id": "9abe8f74",
   "metadata": {},
   "source": [
    "https://learnxinyminutes.com/docs/python/"
   ]
  },
  {
   "cell_type": "markdown",
   "id": "4e01b23d",
   "metadata": {},
   "source": [
    "https://openclassrooms.com/fr/courses/7168871-apprenez-les-bases-du-langage-python"
   ]
  },
  {
   "cell_type": "code",
   "execution_count": null,
   "id": "138f059c",
   "metadata": {},
   "outputs": [],
   "source": []
  }
 ],
 "metadata": {
  "kernelspec": {
   "display_name": "Python 3 (ipykernel)",
   "language": "python",
   "name": "python3"
  },
  "language_info": {
   "codemirror_mode": {
    "name": "ipython",
    "version": 3
   },
   "file_extension": ".py",
   "mimetype": "text/x-python",
   "name": "python",
   "nbconvert_exporter": "python",
   "pygments_lexer": "ipython3",
   "version": "3.8.10"
  }
 },
 "nbformat": 4,
 "nbformat_minor": 5
}
